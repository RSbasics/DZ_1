{
 "cells": [
  {
   "cell_type": "code",
   "execution_count": 114,
   "id": "82ca66a8",
   "metadata": {},
   "outputs": [],
   "source": [
    "# Загружаем библиотеки\n",
    "import pandas as pd # Датафреймы pandas\n",
    "from sklearn.feature_extraction.text import TfidfVectorizer # Модель TF-IDF\n",
    "from sklearn.ensemble import RandomForestRegressor # Модель случайного леса\n",
    "from sklearn.model_selection import train_test_split # Разделение выборки на обучающую и тестовую\n",
    "from sklearn.metrics import mean_squared_error # Средняя квадратичная ошибка"
   ]
  },
  {
   "cell_type": "markdown",
   "id": "5f67c21e",
   "metadata": {},
   "source": [
    "#### Загрузка данных"
   ]
  },
  {
   "cell_type": "code",
   "execution_count": 2,
   "id": "07a5c6dc",
   "metadata": {},
   "outputs": [],
   "source": [
    "links = pd.read_csv('links.csv')\n",
    "movies = pd.read_csv('movies.csv')\n",
    "ratings = pd.read_csv('ratings.csv')\n",
    "tags = pd.read_csv('tags.csv')"
   ]
  },
  {
   "cell_type": "markdown",
   "id": "3d507afc",
   "metadata": {},
   "source": [
    "#### Обработка данных"
   ]
  },
  {
   "cell_type": "code",
   "execution_count": 3,
   "id": "de3fb812",
   "metadata": {},
   "outputs": [],
   "source": [
    "# В списке жанров заменим разделители на пробелы, удалим тире, преобразуем к нижнему регистру\n",
    "movies['genres'] = movies['genres'].apply(lambda string: ' '.join(string.replace('-', '').split('|')).lower())"
   ]
  },
  {
   "cell_type": "code",
   "execution_count": 90,
   "id": "4255aa4d",
   "metadata": {},
   "outputs": [],
   "source": [
    "# Берём столбцы с номерами пользователей, фильмов и теги, объединяем с таблицей фильмов по номеру фильма\n",
    "movies_tagged = movies.join(tags[['userId', 'movieId', 'tag']].set_index('movieId'), on = 'movieId')\n",
    "# Преобразуем теги: удалим все пробелы, приведём к нижнему регистру\n",
    "movies_tagged['tag'] = movies_tagged['tag'].apply(lambda string: str(string).replace('r:', '').replace('(', '').replace(')', '').replace('-', '').lower())"
   ]
  },
  {
   "cell_type": "code",
   "execution_count": 91,
   "id": "310d347a",
   "metadata": {},
   "outputs": [],
   "source": [
    "# Удалим строки с пустыми значениями\n",
    "movies_tagged.dropna(inplace = True)\n",
    "# Создадим столбцы для среднего рейтинга фильма и среднего рейтинга пользователя\n",
    "movies_tagged['movie_rating'] = 0\n",
    "movies_tagged['user_rating'] = 0\n",
    "# Переставим столбцы местами для удобства просмотра\n",
    "movies_tagged = movies_tagged[['movieId', 'movie_rating','title', 'userId', 'user_rating', 'genres', 'tag']]\n",
    "# Сбросим индекс\n",
    "movies_tagged = movies_tagged.reset_index(drop=True)"
   ]
  },
  {
   "cell_type": "markdown",
   "id": "76fe3c67",
   "metadata": {},
   "source": [
    "#### Расчёт средних рейтингов"
   ]
  },
  {
   "cell_type": "code",
   "execution_count": 92,
   "id": "853f41bb",
   "metadata": {},
   "outputs": [],
   "source": [
    "# Средний рейтинг фильма по всем пользователям\n",
    "movies_tagged['movie_rating'] = movies_tagged['movieId'].apply(lambda movieId: ratings[ratings['movieId'] == movieId]['rating'].mean())"
   ]
  },
  {
   "cell_type": "code",
   "execution_count": 93,
   "id": "4e100c53",
   "metadata": {},
   "outputs": [],
   "source": [
    "# Средний рейтинг пользователя по всем фильмам\n",
    "movies_tagged['user_rating'] = movies_tagged['userId'].apply(lambda userId: ratings[ratings['userId'] == userId]['rating'].mean())"
   ]
  },
  {
   "cell_type": "code",
   "execution_count": 94,
   "id": "59367708",
   "metadata": {},
   "outputs": [],
   "source": [
    "movies_tagged['userId'] = movies_tagged['userId'].astype('int64')"
   ]
  },
  {
   "cell_type": "markdown",
   "id": "af18f76c",
   "metadata": {},
   "source": [
    "#### Модель TF-IDF"
   ]
  },
  {
   "cell_type": "code",
   "execution_count": 98,
   "id": "89a1d8de",
   "metadata": {},
   "outputs": [],
   "source": [
    "# Вызываем модель TF-IDF и обучаем её, преобразуем к матрице\n",
    "tfidf = TfidfVectorizer()\n",
    "tfidf_matrix = tfidf.fit_transform(list(movies_tagged['genres'] + ' ' + movies_tagged['tag']))"
   ]
  },
  {
   "cell_type": "markdown",
   "id": "00cf76b0",
   "metadata": {},
   "source": [
    "#### Модель случайного леса и оценка точности"
   ]
  },
  {
   "cell_type": "code",
   "execution_count": 145,
   "id": "72cf61a0",
   "metadata": {},
   "outputs": [],
   "source": [
    "# Разделяем выборку на обучающую и тестовую\n",
    "X_train, X_test, y_train, y_test = train_test_split(tfidf_matrix[:500], movies_tagged['movie_rating'][:500], random_state = 42)"
   ]
  },
  {
   "cell_type": "code",
   "execution_count": 146,
   "id": "55c1aa45",
   "metadata": {},
   "outputs": [
    {
     "name": "stdout",
     "output_type": "stream",
     "text": [
      "Модель для среднего рейтинга фильма по всем пользователям:\n",
      "- показатель точности 0.5054373261548336\n",
      "- RMSE 0.3016470116748055\n"
     ]
    }
   ],
   "source": [
    "# Используем модель случайного леса\n",
    "model = RandomForestRegressor(random_state = 42)\n",
    "# Обучаем модель на обучающей выборке\n",
    "model.fit(X_train, y_train)\n",
    "print('Модель для среднего рейтинга фильма по всем пользователям:')\n",
    "print(f'- показатель точности {model.score(X_test, y_test)}')\n",
    "print(f'- RMSE {mean_squared_error(y_test, model.predict(X_test), squared = False)}')"
   ]
  },
  {
   "cell_type": "code",
   "execution_count": 147,
   "id": "5eab37e0",
   "metadata": {},
   "outputs": [],
   "source": [
    "# Разделяем выборку на обучающую и тестовую\n",
    "X_train, X_test, y_train, y_test = train_test_split(tfidf_matrix[:500], movies_tagged['user_rating'][:500], random_state = 42)"
   ]
  },
  {
   "cell_type": "code",
   "execution_count": 149,
   "id": "6f87688d",
   "metadata": {},
   "outputs": [
    {
     "name": "stdout",
     "output_type": "stream",
     "text": [
      "Модель для среднего рейтинга пользователя по всем фильмам:\n",
      "- показатель точности 0.6055448809403072\n",
      "- RMSE 0.33806865705775596\n"
     ]
    }
   ],
   "source": [
    "# Используем модель случайного леса\n",
    "model = RandomForestRegressor(random_state = 42)\n",
    "# Обучаем модель на обучающей выборке\n",
    "model.fit(X_train, y_train)\n",
    "print('Модель для среднего рейтинга пользователя по всем фильмам:')\n",
    "print(f'- показатель точности {model.score(X_test, y_test)}')\n",
    "print(f'- RMSE {mean_squared_error(y_test, model.predict(X_test), squared = False)}')"
   ]
  },
  {
   "cell_type": "markdown",
   "id": "7dfd04a2",
   "metadata": {},
   "source": [
    "Полученная точность очень низкая! Пробовал слить все слова в каждом теге в одно длинное слово без пробелов для учёта уникальности тегов, но это не помогло повысить точность."
   ]
  }
 ],
 "metadata": {
  "kernelspec": {
   "display_name": "Python 3",
   "language": "python",
   "name": "python3"
  },
  "language_info": {
   "codemirror_mode": {
    "name": "ipython",
    "version": 3
   },
   "file_extension": ".py",
   "mimetype": "text/x-python",
   "name": "python",
   "nbconvert_exporter": "python",
   "pygments_lexer": "ipython3",
   "version": "3.8.8"
  }
 },
 "nbformat": 4,
 "nbformat_minor": 5
}
