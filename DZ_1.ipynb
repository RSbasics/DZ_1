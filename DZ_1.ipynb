{
 "cells": [
  {
   "cell_type": "code",
   "execution_count": 1,
   "id": "82ca66a8",
   "metadata": {},
   "outputs": [],
   "source": [
    "# Загружаем библиотеки\n",
    "import pandas as pd # Датафреймы pandas\n",
    "from sklearn.feature_extraction.text import TfidfVectorizer # Модель TF-IDF\n",
    "from sklearn.ensemble import RandomForestRegressor # Модель случайного леса\n",
    "from sklearn.model_selection import train_test_split # Разделение выборки на обучающую и тестовую\n",
    "from sklearn.metrics import mean_squared_error # Средняя квадратичная ошибка\n",
    "import numpy as np # Математика"
   ]
  },
  {
   "cell_type": "markdown",
   "id": "5f67c21e",
   "metadata": {},
   "source": [
    "#### Загрузка данных"
   ]
  },
  {
   "cell_type": "code",
   "execution_count": 2,
   "id": "07a5c6dc",
   "metadata": {},
   "outputs": [],
   "source": [
    "links = pd.read_csv('links.csv')\n",
    "movies = pd.read_csv('movies.csv')\n",
    "ratings = pd.read_csv('ratings.csv')\n",
    "tags = pd.read_csv('tags.csv')"
   ]
  },
  {
   "cell_type": "markdown",
   "id": "3d507afc",
   "metadata": {},
   "source": [
    "#### Обработка данных"
   ]
  },
  {
   "cell_type": "code",
   "execution_count": 3,
   "id": "de3fb812",
   "metadata": {},
   "outputs": [],
   "source": [
    "# В списке жанров заменим разделители на пробелы, удалим тире, преобразуем к нижнему регистру\n",
    "movies['genres'] = movies['genres'].apply(lambda string: ' '.join(string.replace('-', '').split('|')).lower())"
   ]
  },
  {
   "cell_type": "code",
   "execution_count": 4,
   "id": "4255aa4d",
   "metadata": {},
   "outputs": [],
   "source": [
    "# Берём столбцы с номерами пользователей, фильмов и теги, объединяем с таблицей фильмов по номеру фильма\n",
    "movies_tagged = movies.join(tags[['userId', 'movieId', 'tag']].set_index('movieId'), on = 'movieId')\n",
    "# Преобразуем теги: удалим все пробелы, приведём к нижнему регистру\n",
    "movies_tagged['tag'] = movies_tagged['tag'].apply(lambda string: str(string).replace('r:', '').replace('(', '').replace(')', '').replace('-', '').lower())"
   ]
  },
  {
   "cell_type": "code",
   "execution_count": 5,
   "id": "ec0321dd",
   "metadata": {},
   "outputs": [],
   "source": [
    "# Дополняем список фильмов с тегами и дополняем оценками пользователей\n",
    "movies_tagged_raitings = movies_tagged.join(ratings[['userId', 'movieId', 'rating']].set_index(['movieId', 'userId']), on = ['movieId', 'userId'])\n",
    "# Удалим строки с пустыми значениями\n",
    "movies_tagged_raitings.dropna(inplace = True)"
   ]
  },
  {
   "cell_type": "markdown",
   "id": "76fe3c67",
   "metadata": {},
   "source": [
    "#### Расчёт средних рейтингов"
   ]
  },
  {
   "cell_type": "code",
   "execution_count": 6,
   "id": "d18d9c8e",
   "metadata": {},
   "outputs": [],
   "source": [
    "# Создадим столбцы для среднего рейтинга фильма и среднего рейтинга пользователя\n",
    "movies_tagged_raitings['mean_movie_rating'] = 0\n",
    "movies_tagged_raitings['mean_user_rating'] = 0\n",
    "# Переставим столбцы местами для удобства просмотра\n",
    "movies_tagged_raitings = movies_tagged_raitings[['movieId', 'mean_movie_rating','title', 'userId', 'mean_user_rating', 'rating', 'genres', 'tag']]\n",
    "# Сбросим индекс\n",
    "movies_tagged_raitings = movies_tagged_raitings.reset_index(drop=True)"
   ]
  },
  {
   "cell_type": "code",
   "execution_count": 7,
   "id": "853f41bb",
   "metadata": {},
   "outputs": [],
   "source": [
    "# Средний рейтинг фильма по всем пользователям\n",
    "movies_tagged_raitings['mean_movie_rating'] = movies_tagged_raitings['movieId'].apply(lambda movieId: movies_tagged_raitings[movies_tagged_raitings['movieId'] == movieId]['rating'].mean())"
   ]
  },
  {
   "cell_type": "code",
   "execution_count": 8,
   "id": "4e100c53",
   "metadata": {},
   "outputs": [],
   "source": [
    "# Средний рейтинг пользователя по всем фильмам\n",
    "movies_tagged_raitings['mean_user_rating'] = movies_tagged_raitings['userId'].apply(lambda userId: movies_tagged_raitings[movies_tagged_raitings['userId'] == userId]['rating'].mean())"
   ]
  },
  {
   "cell_type": "markdown",
   "id": "af18f76c",
   "metadata": {},
   "source": [
    "#### Модель TF-IDF"
   ]
  },
  {
   "cell_type": "code",
   "execution_count": 9,
   "id": "89a1d8de",
   "metadata": {},
   "outputs": [],
   "source": [
    "# Вызываем модель TF-IDF и обучаем её, преобразуем к матрице\n",
    "tfidf = TfidfVectorizer()\n",
    "tfidf_matrix = tfidf.fit_transform(list(movies_tagged_raitings['genres'] + ' ' + movies_tagged_raitings['tag']))"
   ]
  },
  {
   "cell_type": "markdown",
   "id": "00cf76b0",
   "metadata": {},
   "source": [
    "#### Модель случайного леса и оценка точности"
   ]
  },
  {
   "cell_type": "code",
   "execution_count": 10,
   "id": "72cf61a0",
   "metadata": {},
   "outputs": [],
   "source": [
    "# Разделяем выборку на обучающую и тестовую\n",
    "all_data = np.column_stack([tfidf_matrix.toarray(), movies_tagged_raitings['mean_movie_rating'].to_numpy(), movies_tagged_raitings['mean_user_rating'].to_numpy()])\n",
    "X_train, X_test, y_train, y_test = train_test_split(all_data[:500], movies_tagged_raitings['rating'][:500], random_state = 42)"
   ]
  },
  {
   "cell_type": "code",
   "execution_count": 11,
   "id": "55c1aa45",
   "metadata": {},
   "outputs": [
    {
     "name": "stdout",
     "output_type": "stream",
     "text": [
      "- показатель точности 0.8982008032128515\n",
      "- RMSE 0.3184211048281819\n"
     ]
    }
   ],
   "source": [
    "# Используем модель случайного леса\n",
    "model = RandomForestRegressor(random_state = 42)\n",
    "# Обучаем модель на обучающей выборке\n",
    "model.fit(X_train, y_train)\n",
    "print(f'- показатель точности {model.score(X_test, y_test)}')\n",
    "print(f'- RMSE {mean_squared_error(y_test, model.predict(X_test), squared = False)}')"
   ]
  }
 ],
 "metadata": {
  "kernelspec": {
   "display_name": "Python 3",
   "language": "python",
   "name": "python3"
  },
  "language_info": {
   "codemirror_mode": {
    "name": "ipython",
    "version": 3
   },
   "file_extension": ".py",
   "mimetype": "text/x-python",
   "name": "python",
   "nbconvert_exporter": "python",
   "pygments_lexer": "ipython3",
   "version": "3.8.8"
  }
 },
 "nbformat": 4,
 "nbformat_minor": 5
}
